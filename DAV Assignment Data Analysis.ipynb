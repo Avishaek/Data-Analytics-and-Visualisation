{
 "cells": [
  {
   "cell_type": "code",
   "execution_count": 85,
   "id": "5c1692d0",
   "metadata": {
    "collapsed": true
   },
   "outputs": [
    {
     "name": "stdout",
     "output_type": "stream",
     "text": [
      "Collecting geopandas\n",
      "  Downloading geopandas-0.12.1-py3-none-any.whl (1.1 MB)\n",
      "Collecting shapely>=1.7\n",
      "  Downloading Shapely-1.8.5.post1-cp39-cp39-win_amd64.whl (1.3 MB)\n",
      "Requirement already satisfied: packaging in c:\\anaconda\\lib\\site-packages (from geopandas) (21.3)\n",
      "Collecting fiona>=1.8\n",
      "  Downloading Fiona-1.8.22-cp39-cp39-win_amd64.whl (21.7 MB)\n",
      "Collecting pyproj>=2.6.1.post1\n",
      "  Downloading pyproj-3.4.0-cp39-cp39-win_amd64.whl (4.8 MB)\n",
      "Requirement already satisfied: pandas>=1.0.0 in c:\\anaconda\\lib\\site-packages (from geopandas) (1.4.2)\n",
      "Requirement already satisfied: setuptools in c:\\anaconda\\lib\\site-packages (from fiona>=1.8->geopandas) (61.2.0)\n",
      "Requirement already satisfied: click>=4.0 in c:\\anaconda\\lib\\site-packages (from fiona>=1.8->geopandas) (8.0.4)\n",
      "Collecting munch\n",
      "  Downloading munch-2.5.0-py2.py3-none-any.whl (10 kB)\n",
      "Collecting cligj>=0.5\n",
      "  Downloading cligj-0.7.2-py3-none-any.whl (7.1 kB)\n",
      "Collecting click-plugins>=1.0\n",
      "  Downloading click_plugins-1.1.1-py2.py3-none-any.whl (7.5 kB)\n",
      "Requirement already satisfied: certifi in c:\\anaconda\\lib\\site-packages (from fiona>=1.8->geopandas) (2021.10.8)\n",
      "Requirement already satisfied: attrs>=17 in c:\\anaconda\\lib\\site-packages (from fiona>=1.8->geopandas) (21.4.0)\n",
      "Requirement already satisfied: six>=1.7 in c:\\anaconda\\lib\\site-packages (from fiona>=1.8->geopandas) (1.16.0)\n",
      "Requirement already satisfied: colorama in c:\\anaconda\\lib\\site-packages (from click>=4.0->fiona>=1.8->geopandas) (0.4.4)\n",
      "Requirement already satisfied: numpy>=1.18.5 in c:\\anaconda\\lib\\site-packages (from pandas>=1.0.0->geopandas) (1.21.5)\n",
      "Requirement already satisfied: python-dateutil>=2.8.1 in c:\\anaconda\\lib\\site-packages (from pandas>=1.0.0->geopandas) (2.8.2)\n",
      "Requirement already satisfied: pytz>=2020.1 in c:\\anaconda\\lib\\site-packages (from pandas>=1.0.0->geopandas) (2021.3)\n",
      "Requirement already satisfied: pyparsing!=3.0.5,>=2.0.2 in c:\\anaconda\\lib\\site-packages (from packaging->geopandas) (3.0.4)\n",
      "Installing collected packages: munch, cligj, click-plugins, shapely, pyproj, fiona, geopandas\n",
      "Successfully installed click-plugins-1.1.1 cligj-0.7.2 fiona-1.8.22 geopandas-0.12.1 munch-2.5.0 pyproj-3.4.0 shapely-1.8.5.post1\n",
      "       id           label      country        Lat        Lon\n",
      "0     BIN          Bamyan  Afghanistan  34.800000  67.816667\n",
      "1     BST     Lashkar Gah  Afghanistan  31.582998  64.360000\n",
      "2     CCN     Chaghcharan  Afghanistan  34.516701  65.250001\n",
      "3     DAZ          Darwaz  Afghanistan  38.466667  70.883333\n",
      "4     FAH           Farah  Afghanistan  32.391730  62.096819\n",
      "...   ...             ...          ...        ...        ...\n",
      "9028  MJW         Mahenye     Zimbabwe -21.116667  32.383333\n",
      "9029  MVZ        Masvingo     Zimbabwe -20.059617  30.820020\n",
      "9030  UTA          Mutare     Zimbabwe -18.970019  32.650038\n",
      "9031  VFA  Victoria Falls     Zimbabwe -17.929617  25.840014\n",
      "9032  WKI          Hwange     Zimbabwe -18.370004  26.500026\n",
      "\n",
      "[9033 rows x 5 columns]\n"
     ]
    }
   ],
   "source": [
    "\n",
    "!pip install geopandas\n",
    "\n"
   ]
  },
  {
   "cell_type": "code",
   "execution_count": 126,
   "id": "8fd97400",
   "metadata": {},
   "outputs": [
    {
     "name": "stdout",
     "output_type": "stream",
     "text": [
      "       id           label      country       Lat         Lon\n",
      "0     BIN          Bamyan  Afghanistan  34.800000  67.816667\n",
      "1     BST     Lashkar Gah  Afghanistan  31.582998  64.360000\n",
      "2     CCN     Chaghcharan  Afghanistan  34.516701  65.250001\n",
      "3     DAZ          Darwaz  Afghanistan  38.466667  70.883333\n",
      "4     FAH           Farah  Afghanistan  32.391730  62.096819\n",
      "...   ...             ...          ...        ...        ...\n",
      "9028  MJW         Mahenye     Zimbabwe -21.116667  32.383333\n",
      "9029  MVZ        Masvingo     Zimbabwe -20.059617  30.820020\n",
      "9030  UTA          Mutare     Zimbabwe -18.970019  32.650038\n",
      "9031  VFA  Victoria Falls     Zimbabwe -17.929617  25.840014\n",
      "9032  WKI          Hwange     Zimbabwe -18.370004  26.500026\n",
      "\n",
      "[9033 rows x 5 columns]\n"
     ]
    }
   ],
   "source": [
    "import pandas as pd\n",
    "import matplotlib.pyplot as plt\n",
    "import geopandas as gpd\n",
    "airports = pd.read_csv(r\"C:\\Users\\Avishaek\\Downloads\\DAV Assignment\\Airports.csv\",encoding='latin1')\n",
    "\n",
    "print(airports)"
   ]
  },
  {
   "cell_type": "code",
   "execution_count": 127,
   "id": "69ce98c0",
   "metadata": {},
   "outputs": [
    {
     "data": {
      "text/plain": [
       "pandas.core.frame.DataFrame"
      ]
     },
     "execution_count": 127,
     "metadata": {},
     "output_type": "execute_result"
    }
   ],
   "source": [
    "type(airports)"
   ]
  },
  {
   "cell_type": "code",
   "execution_count": 128,
   "id": "070fecf0",
   "metadata": {},
   "outputs": [
    {
     "data": {
      "text/html": [
       "<div>\n",
       "<style scoped>\n",
       "    .dataframe tbody tr th:only-of-type {\n",
       "        vertical-align: middle;\n",
       "    }\n",
       "\n",
       "    .dataframe tbody tr th {\n",
       "        vertical-align: top;\n",
       "    }\n",
       "\n",
       "    .dataframe thead th {\n",
       "        text-align: right;\n",
       "    }\n",
       "</style>\n",
       "<table border=\"1\" class=\"dataframe\">\n",
       "  <thead>\n",
       "    <tr style=\"text-align: right;\">\n",
       "      <th></th>\n",
       "      <th>id</th>\n",
       "      <th>label</th>\n",
       "      <th>country</th>\n",
       "      <th>Lat</th>\n",
       "      <th>Lon</th>\n",
       "    </tr>\n",
       "  </thead>\n",
       "  <tbody>\n",
       "    <tr>\n",
       "      <th>0</th>\n",
       "      <td>BIN</td>\n",
       "      <td>Bamyan</td>\n",
       "      <td>Afghanistan</td>\n",
       "      <td>34.800000</td>\n",
       "      <td>67.816667</td>\n",
       "    </tr>\n",
       "    <tr>\n",
       "      <th>1</th>\n",
       "      <td>BST</td>\n",
       "      <td>Lashkar Gah</td>\n",
       "      <td>Afghanistan</td>\n",
       "      <td>31.582998</td>\n",
       "      <td>64.360000</td>\n",
       "    </tr>\n",
       "    <tr>\n",
       "      <th>2</th>\n",
       "      <td>CCN</td>\n",
       "      <td>Chaghcharan</td>\n",
       "      <td>Afghanistan</td>\n",
       "      <td>34.516701</td>\n",
       "      <td>65.250001</td>\n",
       "    </tr>\n",
       "    <tr>\n",
       "      <th>3</th>\n",
       "      <td>DAZ</td>\n",
       "      <td>Darwaz</td>\n",
       "      <td>Afghanistan</td>\n",
       "      <td>38.466667</td>\n",
       "      <td>70.883333</td>\n",
       "    </tr>\n",
       "    <tr>\n",
       "      <th>4</th>\n",
       "      <td>FAH</td>\n",
       "      <td>Farah</td>\n",
       "      <td>Afghanistan</td>\n",
       "      <td>32.391730</td>\n",
       "      <td>62.096819</td>\n",
       "    </tr>\n",
       "    <tr>\n",
       "      <th>...</th>\n",
       "      <td>...</td>\n",
       "      <td>...</td>\n",
       "      <td>...</td>\n",
       "      <td>...</td>\n",
       "      <td>...</td>\n",
       "    </tr>\n",
       "    <tr>\n",
       "      <th>9028</th>\n",
       "      <td>MJW</td>\n",
       "      <td>Mahenye</td>\n",
       "      <td>Zimbabwe</td>\n",
       "      <td>-21.116667</td>\n",
       "      <td>32.383333</td>\n",
       "    </tr>\n",
       "    <tr>\n",
       "      <th>9029</th>\n",
       "      <td>MVZ</td>\n",
       "      <td>Masvingo</td>\n",
       "      <td>Zimbabwe</td>\n",
       "      <td>-20.059617</td>\n",
       "      <td>30.820020</td>\n",
       "    </tr>\n",
       "    <tr>\n",
       "      <th>9030</th>\n",
       "      <td>UTA</td>\n",
       "      <td>Mutare</td>\n",
       "      <td>Zimbabwe</td>\n",
       "      <td>-18.970019</td>\n",
       "      <td>32.650038</td>\n",
       "    </tr>\n",
       "    <tr>\n",
       "      <th>9031</th>\n",
       "      <td>VFA</td>\n",
       "      <td>Victoria Falls</td>\n",
       "      <td>Zimbabwe</td>\n",
       "      <td>-17.929617</td>\n",
       "      <td>25.840014</td>\n",
       "    </tr>\n",
       "    <tr>\n",
       "      <th>9032</th>\n",
       "      <td>WKI</td>\n",
       "      <td>Hwange</td>\n",
       "      <td>Zimbabwe</td>\n",
       "      <td>-18.370004</td>\n",
       "      <td>26.500026</td>\n",
       "    </tr>\n",
       "  </tbody>\n",
       "</table>\n",
       "<p>9033 rows × 5 columns</p>\n",
       "</div>"
      ],
      "text/plain": [
       "       id           label      country       Lat         Lon\n",
       "0     BIN          Bamyan  Afghanistan  34.800000  67.816667\n",
       "1     BST     Lashkar Gah  Afghanistan  31.582998  64.360000\n",
       "2     CCN     Chaghcharan  Afghanistan  34.516701  65.250001\n",
       "3     DAZ          Darwaz  Afghanistan  38.466667  70.883333\n",
       "4     FAH           Farah  Afghanistan  32.391730  62.096819\n",
       "...   ...             ...          ...        ...        ...\n",
       "9028  MJW         Mahenye     Zimbabwe -21.116667  32.383333\n",
       "9029  MVZ        Masvingo     Zimbabwe -20.059617  30.820020\n",
       "9030  UTA          Mutare     Zimbabwe -18.970019  32.650038\n",
       "9031  VFA  Victoria Falls     Zimbabwe -17.929617  25.840014\n",
       "9032  WKI          Hwange     Zimbabwe -18.370004  26.500026\n",
       "\n",
       "[9033 rows x 5 columns]"
      ]
     },
     "execution_count": 128,
     "metadata": {},
     "output_type": "execute_result"
    }
   ],
   "source": [
    "airports"
   ]
  },
  {
   "cell_type": "code",
   "execution_count": 129,
   "id": "9a01edde",
   "metadata": {},
   "outputs": [
    {
     "data": {
      "text/html": [
       "<div>\n",
       "<style scoped>\n",
       "    .dataframe tbody tr th:only-of-type {\n",
       "        vertical-align: middle;\n",
       "    }\n",
       "\n",
       "    .dataframe tbody tr th {\n",
       "        vertical-align: top;\n",
       "    }\n",
       "\n",
       "    .dataframe thead th {\n",
       "        text-align: right;\n",
       "    }\n",
       "</style>\n",
       "<table border=\"1\" class=\"dataframe\">\n",
       "  <thead>\n",
       "    <tr style=\"text-align: right;\">\n",
       "      <th></th>\n",
       "      <th>id</th>\n",
       "      <th>label</th>\n",
       "      <th>country</th>\n",
       "      <th>Lat</th>\n",
       "      <th>Lon</th>\n",
       "    </tr>\n",
       "  </thead>\n",
       "  <tbody>\n",
       "    <tr>\n",
       "      <th>216</th>\n",
       "      <td>AAB</td>\n",
       "      <td>Arrabury</td>\n",
       "      <td>Australia</td>\n",
       "      <td>-26.750000</td>\n",
       "      <td>141.000000</td>\n",
       "    </tr>\n",
       "    <tr>\n",
       "      <th>217</th>\n",
       "      <td>ABG</td>\n",
       "      <td>Abingdon</td>\n",
       "      <td>Australia</td>\n",
       "      <td>-17.666667</td>\n",
       "      <td>143.200000</td>\n",
       "    </tr>\n",
       "    <tr>\n",
       "      <th>218</th>\n",
       "      <td>ABH</td>\n",
       "      <td>Alpha</td>\n",
       "      <td>Australia</td>\n",
       "      <td>-23.700000</td>\n",
       "      <td>146.583333</td>\n",
       "    </tr>\n",
       "    <tr>\n",
       "      <th>219</th>\n",
       "      <td>ABM</td>\n",
       "      <td>Bamaga</td>\n",
       "      <td>Australia</td>\n",
       "      <td>-10.950833</td>\n",
       "      <td>142.459444</td>\n",
       "    </tr>\n",
       "    <tr>\n",
       "      <th>220</th>\n",
       "      <td>ABX</td>\n",
       "      <td>Albury</td>\n",
       "      <td>Australia</td>\n",
       "      <td>-36.060035</td>\n",
       "      <td>146.920014</td>\n",
       "    </tr>\n",
       "    <tr>\n",
       "      <th>...</th>\n",
       "      <td>...</td>\n",
       "      <td>...</td>\n",
       "      <td>...</td>\n",
       "      <td>...</td>\n",
       "      <td>...</td>\n",
       "    </tr>\n",
       "    <tr>\n",
       "      <th>8764</th>\n",
       "      <td>ZWB</td>\n",
       "      <td>Williamsburg Rail</td>\n",
       "      <td>United States</td>\n",
       "      <td>52.166667</td>\n",
       "      <td>-113.000000</td>\n",
       "    </tr>\n",
       "    <tr>\n",
       "      <th>8765</th>\n",
       "      <td>ZWI</td>\n",
       "      <td>Wilmington Rail</td>\n",
       "      <td>United States</td>\n",
       "      <td>34.000000</td>\n",
       "      <td>-77.900000</td>\n",
       "    </tr>\n",
       "    <tr>\n",
       "      <th>8766</th>\n",
       "      <td>ZWW</td>\n",
       "      <td>Newport News Rail</td>\n",
       "      <td>United States</td>\n",
       "      <td>52.166667</td>\n",
       "      <td>-99.000000</td>\n",
       "    </tr>\n",
       "    <tr>\n",
       "      <th>8767</th>\n",
       "      <td>ZXS</td>\n",
       "      <td>Exchangest Railway Svc</td>\n",
       "      <td>United States</td>\n",
       "      <td>42.878333</td>\n",
       "      <td>-78.875278</td>\n",
       "    </tr>\n",
       "    <tr>\n",
       "      <th>8768</th>\n",
       "      <td>ZZV</td>\n",
       "      <td>Zanesville</td>\n",
       "      <td>United States</td>\n",
       "      <td>39.940287</td>\n",
       "      <td>-82.013325</td>\n",
       "    </tr>\n",
       "  </tbody>\n",
       "</table>\n",
       "<p>2962 rows × 5 columns</p>\n",
       "</div>"
      ],
      "text/plain": [
       "       id                   label        country       Lat          Lon\n",
       "216   AAB                Arrabury      Australia -26.750000  141.000000\n",
       "217   ABG                Abingdon      Australia -17.666667  143.200000\n",
       "218   ABH                   Alpha      Australia -23.700000  146.583333\n",
       "219   ABM                  Bamaga      Australia -10.950833  142.459444\n",
       "220   ABX                  Albury      Australia -36.060035  146.920014\n",
       "...   ...                     ...            ...        ...         ...\n",
       "8764  ZWB       Williamsburg Rail  United States  52.166667 -113.000000\n",
       "8765  ZWI         Wilmington Rail  United States  34.000000  -77.900000\n",
       "8766  ZWW       Newport News Rail  United States  52.166667  -99.000000\n",
       "8767  ZXS  Exchangest Railway Svc  United States  42.878333  -78.875278\n",
       "8768  ZZV              Zanesville  United States  39.940287  -82.013325\n",
       "\n",
       "[2962 rows x 5 columns]"
      ]
     },
     "execution_count": 129,
     "metadata": {},
     "output_type": "execute_result"
    }
   ],
   "source": [
    "airports= airports[airports['country'].str.contains('United States')|airports['country'].str.contains('United Kingdom')|airports['country'].str.contains('Australia')|airports['country'].str.contains('China')]\n",
    "airports"
   ]
  },
  {
   "cell_type": "code",
   "execution_count": null,
   "id": "f5c0aef9",
   "metadata": {},
   "outputs": [],
   "source": []
  },
  {
   "cell_type": "code",
   "execution_count": 130,
   "id": "443622b7",
   "metadata": {},
   "outputs": [
    {
     "data": {
      "text/plain": [
       "Index(['id', 'label', 'country', 'Lat ', 'Lon'], dtype='object')"
      ]
     },
     "execution_count": 130,
     "metadata": {},
     "output_type": "execute_result"
    }
   ],
   "source": [
    "airports.columns"
   ]
  },
  {
   "cell_type": "code",
   "execution_count": 131,
   "id": "fc9406bf",
   "metadata": {},
   "outputs": [
    {
     "data": {
      "image/png": "[encoded data removed]",
      "text/plain": [
       "<Figure size 1008x504 with 1 Axes>"
      ]
     },
     "metadata": {},
     "output_type": "display_data"
    }
   ],
   "source": [
    "import matplotlib.pyplot as plt\n",
    "\n",
    "fig, ax = plt.subplots(facecolor='#FCF6F5FF')\n",
    "fig.set_size_inches(14, 7)\n",
    "\n",
    "ax.scatter(airports['Lon'], airports['Lat '], s=1, alpha=1, edgecolors='none')\n",
    "ax.axis('off')\n",
    "\n",
    "plt.show()"
   ]
  },
  {
   "cell_type": "code",
   "execution_count": 111,
   "id": "9e6d8b9c",
   "metadata": {},
   "outputs": [
    {
     "data": {
      "text/plain": [
       "753"
      ]
     },
     "execution_count": 111,
     "metadata": {},
     "output_type": "execute_result"
    }
   ],
   "source": [
    "routes = pd.read_csv(r\"C:\\Users\\Avishaek\\Downloads\\Test.csv\")\n",
    "routes= routes[['Source','Target','Weight']]\n",
    "routes.size\n"
   ]
  },
  {
   "cell_type": "code",
   "execution_count": 112,
   "id": "5c6bb64c",
   "metadata": {},
   "outputs": [
    {
     "name": "stdout",
     "output_type": "stream",
     "text": [
      "Index(['Source', 'Target', 'Weight'], dtype='object')\n"
     ]
    }
   ],
   "source": [
    "print(routes.columns)"
   ]
  },
  {
   "cell_type": "code",
   "execution_count": 135,
   "id": "c820e7a2",
   "metadata": {},
   "outputs": [],
   "source": [
    "import string\n",
    "d={}\n",
    "with open(r\"C:\\Users\\Avishaek\\Documents\\Dict.txt\") as r:\n",
    "    for line in r:\n",
    "   "
   ]
  },
  {
   "cell_type": "code",
   "execution_count": 132,
   "id": "6239b936",
   "metadata": {},
   "outputs": [
    {
     "ename": "ValueError",
     "evalue": "not enough values to unpack (expected 3, got 2)",
     "output_type": "error",
     "traceback": [
      "\u001b[1;31m---------------------------------------------------------------------------\u001b[0m",
      "\u001b[1;31mValueError\u001b[0m                                Traceback (most recent call last)",
      "Input \u001b[1;32mIn [132]\u001b[0m, in \u001b[0;36m<cell line: 1>\u001b[1;34m()\u001b[0m\n\u001b[1;32m----> 1\u001b[0m pos \u001b[38;5;241m=\u001b[39m {\u001b[38;5;28mid\u001b[39m: (airports[\u001b[38;5;124m'\u001b[39m\u001b[38;5;124mLon\u001b[39m\u001b[38;5;124m'\u001b[39m], airports[\u001b[38;5;124m'\u001b[39m\u001b[38;5;124mLat\u001b[39m\u001b[38;5;124m'\u001b[39m])\n\u001b[0;32m      2\u001b[0m        \u001b[38;5;28;01mfor\u001b[39;00m \u001b[38;5;28mid\u001b[39m, airports[\u001b[38;5;124m'\u001b[39m\u001b[38;5;124mLon\u001b[39m\u001b[38;5;124m'\u001b[39m], airports[\u001b[38;5;124m'\u001b[39m\u001b[38;5;124mLat\u001b[39m\u001b[38;5;124m'\u001b[39m] \u001b[38;5;129;01min\u001b[39;00m\n\u001b[0;32m      3\u001b[0m        airports\u001b[38;5;241m.\u001b[39mto_dict(\u001b[38;5;124m'\u001b[39m\u001b[38;5;124mindex\u001b[39m\u001b[38;5;124m'\u001b[39m)\u001b[38;5;241m.\u001b[39mitems()}\n",
      "Input \u001b[1;32mIn [132]\u001b[0m, in \u001b[0;36m<dictcomp>\u001b[1;34m(.0)\u001b[0m\n\u001b[1;32m----> 1\u001b[0m pos \u001b[38;5;241m=\u001b[39m {\u001b[38;5;28mid\u001b[39m: (airports[\u001b[38;5;124m'\u001b[39m\u001b[38;5;124mLon\u001b[39m\u001b[38;5;124m'\u001b[39m], airports[\u001b[38;5;124m'\u001b[39m\u001b[38;5;124mLat\u001b[39m\u001b[38;5;124m'\u001b[39m])\n\u001b[0;32m      2\u001b[0m        \u001b[38;5;28;01mfor\u001b[39;00m \u001b[38;5;28mid\u001b[39m, airports[\u001b[38;5;124m'\u001b[39m\u001b[38;5;124mLon\u001b[39m\u001b[38;5;124m'\u001b[39m], airports[\u001b[38;5;124m'\u001b[39m\u001b[38;5;124mLat\u001b[39m\u001b[38;5;124m'\u001b[39m] \u001b[38;5;129;01min\u001b[39;00m\n\u001b[0;32m      3\u001b[0m        airports\u001b[38;5;241m.\u001b[39mto_dict(\u001b[38;5;124m'\u001b[39m\u001b[38;5;124mindex\u001b[39m\u001b[38;5;124m'\u001b[39m)\u001b[38;5;241m.\u001b[39mitems()}\n",
      "\u001b[1;31mValueError\u001b[0m: not enough values to unpack (expected 3, got 2)"
     ]
    }
   ],
   "source": [
    "pos = {id: (airports['Lon'], airports['Lat'])\n",
    "       for id, airports['Lon'], airports['Lat'] in\n",
    "       airports.to_dict('index').items()}"
   ]
  }
 ],
 "metadata": {
  "kernelspec": {
   "display_name": "Python 3 (ipykernel)",
   "language": "python",
   "name": "python3"
  },
  "language_info": {
   "codemirror_mode": {
    "name": "ipython",
    "version": 3
   },
   "file_extension": ".py",
   "mimetype": "text/x-python",
   "name": "python",
   "nbconvert_exporter": "python",
   "pygments_lexer": "ipython3",
   "version": "3.9.12"
  }
 },
 "nbformat": 4,
 "nbformat_minor": 5
}
